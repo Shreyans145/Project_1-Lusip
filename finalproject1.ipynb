{
  "nbformat": 4,
  "nbformat_minor": 0,
  "metadata": {
    "colab": {
      "name": "finalproject1.ipynb",
      "provenance": [],
      "collapsed_sections": [],
      "authorship_tag": "ABX9TyNfQNhgQYcgqaBmjJSvdZnW",
      "include_colab_link": true
    },
    "kernelspec": {
      "name": "python3",
      "display_name": "Python 3"
    }
  },
  "cells": [
    {
      "cell_type": "markdown",
      "metadata": {
        "id": "view-in-github",
        "colab_type": "text"
      },
      "source": [
        "<a href=\"https://colab.research.google.com/github/Shreyans145/Project_1-Lusip/blob/master/finalproject1.ipynb\" target=\"_parent\"><img src=\"https://colab.research.google.com/assets/colab-badge.svg\" alt=\"Open In Colab\"/></a>"
      ]
    },
    {
      "cell_type": "code",
      "metadata": {
        "id": "WQohEdkLyuEC",
        "colab_type": "code",
        "colab": {
          "base_uri": "https://localhost:8080/",
          "height": 336
        },
        "outputId": "d9bf519e-f051-450b-cff4-cdfc29932313"
      },
      "source": [
        "pip install shap\n"
      ],
      "execution_count": null,
      "outputs": [
        {
          "output_type": "stream",
          "text": [
            "Collecting shap\n",
            "\u001b[?25l  Downloading https://files.pythonhosted.org/packages/a8/77/b504e43e21a2ba543a1ac4696718beb500cfa708af2fb57cb54ce299045c/shap-0.35.0.tar.gz (273kB)\n",
            "\u001b[K     |████████████████████████████████| 276kB 4.4MB/s \n",
            "\u001b[?25hRequirement already satisfied: numpy in /usr/local/lib/python3.6/dist-packages (from shap) (1.18.5)\n",
            "Requirement already satisfied: scipy in /usr/local/lib/python3.6/dist-packages (from shap) (1.4.1)\n",
            "Requirement already satisfied: scikit-learn in /usr/local/lib/python3.6/dist-packages (from shap) (0.22.2.post1)\n",
            "Requirement already satisfied: pandas in /usr/local/lib/python3.6/dist-packages (from shap) (1.0.5)\n",
            "Requirement already satisfied: tqdm>4.25.0 in /usr/local/lib/python3.6/dist-packages (from shap) (4.41.1)\n",
            "Requirement already satisfied: joblib>=0.11 in /usr/local/lib/python3.6/dist-packages (from scikit-learn->shap) (0.15.1)\n",
            "Requirement already satisfied: python-dateutil>=2.6.1 in /usr/local/lib/python3.6/dist-packages (from pandas->shap) (2.8.1)\n",
            "Requirement already satisfied: pytz>=2017.2 in /usr/local/lib/python3.6/dist-packages (from pandas->shap) (2018.9)\n",
            "Requirement already satisfied: six>=1.5 in /usr/local/lib/python3.6/dist-packages (from python-dateutil>=2.6.1->pandas->shap) (1.12.0)\n",
            "Building wheels for collected packages: shap\n",
            "  Building wheel for shap (setup.py) ... \u001b[?25l\u001b[?25hdone\n",
            "  Created wheel for shap: filename=shap-0.35.0-cp36-cp36m-linux_x86_64.whl size=394111 sha256=87c1e6c848a0b317f733cb032a83e5d0849d6ae94ba93dbafa68f46ed7cc82d5\n",
            "  Stored in directory: /root/.cache/pip/wheels/e7/f7/0f/b57055080cf8894906b3bd3616d2fc2bfd0b12d5161bcb24ac\n",
            "Successfully built shap\n",
            "Installing collected packages: shap\n",
            "Successfully installed shap-0.35.0\n"
          ],
          "name": "stdout"
        }
      ]
    },
    {
      "cell_type": "code",
      "metadata": {
        "id": "sLjo_czaNen3",
        "colab_type": "code",
        "colab": {
          "base_uri": "https://localhost:8080/",
          "height": 34
        },
        "outputId": "ade15842-e5f4-40c8-c4e5-27b52b8c730f"
      },
      "source": [
        "pip install numpy"
      ],
      "execution_count": null,
      "outputs": [
        {
          "output_type": "stream",
          "text": [
            "Requirement already satisfied: numpy in /usr/local/lib/python3.6/dist-packages (1.18.5)\n"
          ],
          "name": "stdout"
        }
      ]
    },
    {
      "cell_type": "code",
      "metadata": {
        "id": "CFdba9Xyy08J",
        "colab_type": "code",
        "colab": {
          "base_uri": "https://localhost:8080/",
          "height": 202
        },
        "outputId": "20a4eff4-6a52-4931-9096-9f068f4aaaf9"
      },
      "source": [
        "pip install mpl_finance"
      ],
      "execution_count": null,
      "outputs": [
        {
          "output_type": "stream",
          "text": [
            "Collecting mpl_finance\n",
            "  Downloading https://files.pythonhosted.org/packages/9d/de/8169ea4403d6cb8322e74cc48b6834d1dfbed81931d17f1f26b2140160d8/mpl_finance-0.10.1-py3-none-any.whl\n",
            "Requirement already satisfied: matplotlib in /usr/local/lib/python3.6/dist-packages (from mpl_finance) (3.2.2)\n",
            "Requirement already satisfied: numpy>=1.11 in /usr/local/lib/python3.6/dist-packages (from matplotlib->mpl_finance) (1.18.5)\n",
            "Requirement already satisfied: pyparsing!=2.0.4,!=2.1.2,!=2.1.6,>=2.0.1 in /usr/local/lib/python3.6/dist-packages (from matplotlib->mpl_finance) (2.4.7)\n",
            "Requirement already satisfied: python-dateutil>=2.1 in /usr/local/lib/python3.6/dist-packages (from matplotlib->mpl_finance) (2.8.1)\n",
            "Requirement already satisfied: kiwisolver>=1.0.1 in /usr/local/lib/python3.6/dist-packages (from matplotlib->mpl_finance) (1.2.0)\n",
            "Requirement already satisfied: cycler>=0.10 in /usr/local/lib/python3.6/dist-packages (from matplotlib->mpl_finance) (0.10.0)\n",
            "Requirement already satisfied: six>=1.5 in /usr/local/lib/python3.6/dist-packages (from python-dateutil>=2.1->matplotlib->mpl_finance) (1.12.0)\n",
            "Installing collected packages: mpl-finance\n",
            "Successfully installed mpl-finance-0.10.1\n"
          ],
          "name": "stdout"
        }
      ]
    },
    {
      "cell_type": "code",
      "metadata": {
        "id": "vn7yQ7M0xy5y",
        "colab_type": "code",
        "colab": {
          "base_uri": "https://localhost:8080/",
          "height": 118
        },
        "outputId": "8a960037-8078-4727-e5ea-173235ee35b1"
      },
      "source": [
        "#importing all the library\n",
        "import matplotlib\n",
        "import numpy as np\n",
        "import pandas as pd\n",
        "import itertools\n",
        "import sklearn\n",
        "import keras\n",
        "import time\n",
        "import shap\n",
        "import math\n",
        "import datetime as dt\n",
        "\n",
        "from keras.models import Sequential\n",
        "import matplotlib.pyplot as plt\n",
        "import matplotlib.ticker as mticker\n",
        "from mpl_finance import candlestick_ohlc\n",
        "from sklearn.preprocessing import MinMaxScaler\n",
        "from keras.layers import Dense,LSTM\n",
        "\n",
        "print('Numpy version: ' + np.__version__)\n",
        "print('Pandas version: ' + pd.__version__)\n",
        "print('Matplotlib version: ' + matplotlib.__version__)\n",
        "print('Sklearn version: ' + sklearn.__version__)\n",
        "print('Keras version: ' + keras.__version__)\n"
      ],
      "execution_count": null,
      "outputs": [
        {
          "output_type": "stream",
          "text": [
            "Using TensorFlow backend.\n"
          ],
          "name": "stderr"
        },
        {
          "output_type": "stream",
          "text": [
            "Numpy version: 1.18.5\n",
            "Pandas version: 1.0.5\n",
            "Matplotlib version: 3.2.2\n",
            "Sklearn version: 0.22.2.post1\n",
            "Keras version: 2.3.1\n"
          ],
          "name": "stdout"
        }
      ]
    },
    {
      "cell_type": "code",
      "metadata": {
        "id": "ohp8c_nZyoYq",
        "colab_type": "code",
        "colab": {
          "base_uri": "https://localhost:8080/",
          "height": 252
        },
        "outputId": "3d616e15-9193-4d73-8148-64f9e501d83f"
      },
      "source": [
        "# import the dataset of OPEN , HIGH, LOW, CLOSE prices from github which has been uploded previously\n",
        "url = 'https://raw.githubusercontent.com/viveknunia/hello-world/master/tesla.csv'\n",
        "my_dataset = pd.read_csv(url)\n",
        "print(my_dataset)"
      ],
      "execution_count": null,
      "outputs": [
        {
          "output_type": "stream",
          "text": [
            "            Open        High         Low       Close\n",
            "0      19.000000   25.000000   17.540001   23.889999\n",
            "1      25.790001   30.420000   23.299999   23.830000\n",
            "2      25.000000   25.920000   20.270000   21.959999\n",
            "3      23.000000   23.100000   18.709999   19.200001\n",
            "4      20.000000   20.000000   15.830000   16.110001\n",
            "...          ...         ...         ...         ...\n",
            "1635  208.000000  213.449997  207.710007  213.339996\n",
            "1636  214.880005  222.250000  214.419998  219.529999\n",
            "1637  221.529999  223.800003  217.199997  219.740006\n",
            "1638  218.559998  219.199997  214.119995  214.679993\n",
            "1639  216.300003  217.500000  211.679993  213.690002\n",
            "\n",
            "[1640 rows x 4 columns]\n"
          ],
          "name": "stdout"
        }
      ]
    },
    {
      "cell_type": "code",
      "metadata": {
        "id": "_Xecn20xzQrV",
        "colab_type": "code",
        "colab": {}
      },
      "source": [
        "# function to plot candlestick_ohlc dataset\n",
        "def graph_data_ohlc(dataset):\n",
        "    fig = plt.figure()\n",
        "    ax1 = plt.subplot2grid((1,1),(0,0))\n",
        "    closep = dataset[:,[3]]\n",
        "    openp = dataset[:,[0]]\n",
        "    highp = dataset[:,[1]]\n",
        "    lowp = dataset[:,[2]]\n",
        "    date = range(len(closep))\n",
        "    \n",
        "    x = 0\n",
        "    y = len(date)\n",
        "    ohlc = []\n",
        "    while x < y:\n",
        "        append_me = date[x] , openp[x], highp[x], lowp[x], closep[x]\n",
        "        ohlc.append(append_me)\n",
        "        x += 1\n",
        "    candlestick_ohlc(ax1, ohlc, width = 0.3, colorup='#77d879', colordown='#db3f3f')\n",
        "    for label in ax1.xaxis.get_ticklabels():\n",
        "        label.set_rotation(45)\n",
        "    ax1.xaxis.set_major_locator(mticker.MaxNLocator(10))\n",
        "\n",
        "    ax1.grid(True)\n",
        "    plt.xlabel('Candel')\n",
        "    plt.ylabel('Price')\n",
        "    plt.title('Candlestick sample representation')\n",
        "\n",
        "    plt.subplots_adjust(left=0.09, bottom=0.20, right=0.94, top=0.90, wspace=0.2, hspace=0)\n",
        "    plt.show()"
      ],
      "execution_count": null,
      "outputs": []
    },
    {
      "cell_type": "markdown",
      "metadata": {
        "id": "M7eJVXIwAlwS",
        "colab_type": "text"
      },
      "source": [
        ""
      ]
    },
    {
      "cell_type": "code",
      "metadata": {
        "id": "Ak-cNa074iNv",
        "colab_type": "code",
        "colab": {
          "base_uri": "https://localhost:8080/",
          "height": 290
        },
        "outputId": "7709cd7f-ef51-4c4e-c70b-1b7758864b7f"
      },
      "source": [
        "graph_data_ohlc(my_dataset.tail(1000).values)"
      ],
      "execution_count": null,
      "outputs": [
        {
          "output_type": "display_data",
          "data": {
            "image/png": "[encoded data removed]",
            "text/plain": [
              "<Figure size 432x288 with 1 Axes>"
            ]
          },
          "metadata": {
            "tags": [],
            "needs_background": "light"
          }
        }
      ]
    },
    {
      "cell_type": "code",
      "metadata": {
        "id": "yK4IzKqm4mL9",
        "colab_type": "code",
        "colab": {}
      },
      "source": [
        "# function to get the numeber of rows to train the model\n",
        "def data_len_func(data):\n",
        "    dataset = data.values\n",
        "    training_data_len = math.ceil(len(dataset)*.8)\n",
        "    return training_data_len"
      ],
      "execution_count": null,
      "outputs": []
    },
    {
      "cell_type": "code",
      "metadata": {
        "id": "ljU-qUvp_kJX",
        "colab_type": "code",
        "colab": {}
      },
      "source": [
        "# getting the length of close , open,high,low data for training\n",
        "\n",
        "close_training_data_len = data_len_func(my_dataset.filter(['Close']))\n",
        "open_training_data_len = data_len_func(my_dataset.filter(['Open']))\n",
        "high_training_data_len = data_len_func(my_dataset.filter(['High']))\n",
        "low_training_data_len = data_len_func(my_dataset.filter(['Low']))\n"
      ],
      "execution_count": null,
      "outputs": []
    },
    {
      "cell_type": "code",
      "metadata": {
        "id": "LGijtjcoAQ8J",
        "colab_type": "code",
        "colab": {}
      },
      "source": [
        "# getting the scaled data of close,open,high,low \n",
        "data = my_dataset.filter(['Close'])\n",
        "dataset = data.values\n",
        "close_scaler = MinMaxScaler(feature_range= (0,1))\n",
        "close_scaled_data = close_scaler.fit_transform(dataset)\n",
        "\n",
        "data = my_dataset.filter(['High'])\n",
        "dataset = data.values\n",
        "high_scaler = MinMaxScaler(feature_range= (0,1))\n",
        "high_scaled_data = high_scaler.fit_transform(dataset)\n",
        "\n",
        "\n",
        "data = my_dataset.filter(['Open'])\n",
        "dataset = data.values\n",
        "open_scaler = MinMaxScaler(feature_range= (0,1))\n",
        "open_scaled_data = open_scaler.fit_transform(dataset)\n",
        "\n",
        "\n",
        "data = my_dataset.filter(['Low'])\n",
        "dataset = data.values\n",
        "low_scaler = MinMaxScaler(feature_range= (0,1))\n",
        "low_scaled_data = low_scaler.fit_transform(dataset)\n",
        "\n"
      ],
      "execution_count": null,
      "outputs": []
    },
    {
      "cell_type": "code",
      "metadata": {
        "id": "IZPwngBDACCW",
        "colab_type": "code",
        "colab": {}
      },
      "source": [
        "#create the training dataset func\n",
        "def create_train_dataset_fun(scaled_data,training_data_len):\n",
        "    train_data = scaled_data[0:training_data_len,:]\n",
        "    x_train = []\n",
        "    y_train = []\n",
        "    for i in range(60,len(train_data)):\n",
        "        x_train.append(train_data[i-60:i,0])\n",
        "        y_train.append(train_data[i,0])\n",
        "    return x_train,y_train"
      ],
      "execution_count": null,
      "outputs": []
    },
    {
      "cell_type": "code",
      "metadata": {
        "id": "7ptS9F74Jpdp",
        "colab_type": "code",
        "colab": {}
      },
      "source": [
        "# get the traing dataset for close,open,high,low\n",
        "close_x_train, close_y_train = create_train_dataset_fun(close_scaled_data,close_training_data_len)\n",
        "open_x_train, open_y_train = create_train_dataset_fun(open_scaled_data,open_training_data_len)\n",
        "high_x_train, high_y_train = create_train_dataset_fun(high_scaled_data,high_training_data_len)\n",
        "low_x_train, low_y_train = create_train_dataset_fun(low_scaled_data,low_training_data_len)\n"
      ],
      "execution_count": null,
      "outputs": []
    },
    {
      "cell_type": "code",
      "metadata": {
        "id": "Um_Q2e93KU-a",
        "colab_type": "code",
        "colab": {}
      },
      "source": [
        "# convert all the x_train and y_train into numpy arrays\n",
        "close_x_train,close_y_train = np.array(close_x_train),np.array(close_y_train)\n",
        "open_x_train,open_y_train = np.array(open_x_train),np.array(open_y_train)\n",
        "high_x_train,high_y_train = np.array(high_x_train),np.array(high_y_train)\n",
        "low_x_train,low_y_train = np.array(low_x_train),np.array(low_y_train)"
      ],
      "execution_count": null,
      "outputs": []
    },
    {
      "cell_type": "code",
      "metadata": {
        "id": "DGQgppLNLOBb",
        "colab_type": "code",
        "colab": {
          "base_uri": "https://localhost:8080/",
          "height": 34
        },
        "outputId": "ad6f3299-5a56-4933-a115-bdd7afb5bcee"
      },
      "source": [
        "#reshape the data in 3D\n",
        "close_x_train = np.reshape(close_x_train, (close_x_train.shape[0],close_x_train.shape[1],1))\n",
        "open_x_train = np.reshape(open_x_train, ( open_x_train.shape[0],open_x_train.shape[1],1))\n",
        "high_x_train = np.reshape(high_x_train, (high_x_train.shape[0],high_x_train.shape[1],1))\n",
        "low_x_train = np.reshape(low_x_train, (low_x_train.shape[0],low_x_train.shape[1],1))\n",
        "close_x_train.shape"
      ],
      "execution_count": null,
      "outputs": [
        {
          "output_type": "execute_result",
          "data": {
            "text/plain": [
              "(1252, 60, 1)"
            ]
          },
          "metadata": {
            "tags": []
          },
          "execution_count": 14
        }
      ]
    },
    {
      "cell_type": "code",
      "metadata": {
        "id": "YfJNBIIYLTYG",
        "colab_type": "code",
        "colab": {}
      },
      "source": [
        "#build the model for close\n",
        "close_model = Sequential()\n",
        "close_model.add(LSTM(50,return_sequences=True,input_shape = (close_x_train.shape[1],1)))\n",
        "close_model.add(LSTM(50,return_sequences= False))\n",
        "close_model.add(Dense(25))\n",
        "close_model.add(Dense(1))\n",
        "\n",
        "close_model.compile(optimizer = 'adam',loss = 'mean_squared_error')\n",
        "\n",
        "#build the model for high\n",
        "high_model = Sequential()\n",
        "high_model.add(LSTM(50,return_sequences=True,input_shape = (high_x_train.shape[1],1)))\n",
        "high_model.add(LSTM(50,return_sequences= False))\n",
        "high_model.add(Dense(25))\n",
        "high_model.add(Dense(1))\n",
        "\n",
        "high_model.compile(optimizer = 'adam',loss = 'mean_squared_error')\n",
        "\n",
        "#build the model for low\n",
        "\n",
        "low_model = Sequential()\n",
        "low_model.add(LSTM(50,return_sequences=True,input_shape = (low_x_train.shape[1],1)))\n",
        "low_model.add(LSTM(50,return_sequences= False))\n",
        "low_model.add(Dense(25))\n",
        "low_model.add(Dense(1))\n",
        "\n",
        "low_model.compile(optimizer = 'adam',loss = 'mean_squared_error')\n",
        "\n",
        "\n",
        "#build the model for open\n",
        "\n",
        "open_model = Sequential()\n",
        "open_model.add(LSTM(50,return_sequences=True,input_shape = (open_x_train.shape[1],1)))\n",
        "open_model.add(LSTM(50,return_sequences= False))\n",
        "open_model.add(Dense(25))\n",
        "open_model.add(Dense(1))\n",
        "\n",
        "open_model.compile(optimizer = 'adam',loss = 'mean_squared_error')\n"
      ],
      "execution_count": null,
      "outputs": []
    },
    {
      "cell_type": "code",
      "metadata": {
        "id": "YByKMZAiPABf",
        "colab_type": "code",
        "colab": {
          "base_uri": "https://localhost:8080/",
          "height": 1000
        },
        "outputId": "8af9ec87-f05a-4bf9-a771-1128b4d827ca"
      },
      "source": [
        "print(\"close_model\")\n",
        "print(\"\\n\")\n",
        "close_model.summary()\n",
        "print(\"\\n\")\n",
        "print(\"open_model\")\n",
        "print(\"\\n\")\n",
        "open_model.summary()\n",
        "print(\"\\n\")\n",
        "print(\"high_model\")\n",
        "print(\"\\n\")\n",
        "high_model.summary()\n",
        "print(\"\\n\")\n",
        "print(\"low_model\")\n",
        "print(\"\\n\")\n",
        "low_model.summary()"
      ],
      "execution_count": null,
      "outputs": [
        {
          "output_type": "stream",
          "text": [
            "close_model\n",
            "\n",
            "\n",
            "Model: \"sequential_1\"\n",
            "_________________________________________________________________\n",
            "Layer (type)                 Output Shape              Param #   \n",
            "=================================================================\n",
            "lstm_1 (LSTM)                (None, 60, 50)            10400     \n",
            "_________________________________________________________________\n",
            "lstm_2 (LSTM)                (None, 50)                20200     \n",
            "_________________________________________________________________\n",
            "dense_1 (Dense)              (None, 25)                1275      \n",
            "_________________________________________________________________\n",
            "dense_2 (Dense)              (None, 1)                 26        \n",
            "=================================================================\n",
            "Total params: 31,901\n",
            "Trainable params: 31,901\n",
            "Non-trainable params: 0\n",
            "_________________________________________________________________\n",
            "\n",
            "\n",
            "open_model\n",
            "\n",
            "\n",
            "Model: \"sequential_4\"\n",
            "_________________________________________________________________\n",
            "Layer (type)                 Output Shape              Param #   \n",
            "=================================================================\n",
            "lstm_7 (LSTM)                (None, 60, 50)            10400     \n",
            "_________________________________________________________________\n",
            "lstm_8 (LSTM)                (None, 50)                20200     \n",
            "_________________________________________________________________\n",
            "dense_7 (Dense)              (None, 25)                1275      \n",
            "_________________________________________________________________\n",
            "dense_8 (Dense)              (None, 1)                 26        \n",
            "=================================================================\n",
            "Total params: 31,901\n",
            "Trainable params: 31,901\n",
            "Non-trainable params: 0\n",
            "_________________________________________________________________\n",
            "\n",
            "\n",
            "high_model\n",
            "\n",
            "\n",
            "Model: \"sequential_2\"\n",
            "_________________________________________________________________\n",
            "Layer (type)                 Output Shape              Param #   \n",
            "=================================================================\n",
            "lstm_3 (LSTM)                (None, 60, 50)            10400     \n",
            "_________________________________________________________________\n",
            "lstm_4 (LSTM)                (None, 50)                20200     \n",
            "_________________________________________________________________\n",
            "dense_3 (Dense)              (None, 25)                1275      \n",
            "_________________________________________________________________\n",
            "dense_4 (Dense)              (None, 1)                 26        \n",
            "=================================================================\n",
            "Total params: 31,901\n",
            "Trainable params: 31,901\n",
            "Non-trainable params: 0\n",
            "_________________________________________________________________\n",
            "\n",
            "\n",
            "low_model\n",
            "\n",
            "\n",
            "Model: \"sequential_3\"\n",
            "_________________________________________________________________\n",
            "Layer (type)                 Output Shape              Param #   \n",
            "=================================================================\n",
            "lstm_5 (LSTM)                (None, 60, 50)            10400     \n",
            "_________________________________________________________________\n",
            "lstm_6 (LSTM)                (None, 50)                20200     \n",
            "_________________________________________________________________\n",
            "dense_5 (Dense)              (None, 25)                1275      \n",
            "_________________________________________________________________\n",
            "dense_6 (Dense)              (None, 1)                 26        \n",
            "=================================================================\n",
            "Total params: 31,901\n",
            "Trainable params: 31,901\n",
            "Non-trainable params: 0\n",
            "_________________________________________________________________\n"
          ],
          "name": "stdout"
        }
      ]
    },
    {
      "cell_type": "code",
      "metadata": {
        "id": "SMO3mxSpmr-X",
        "colab_type": "code",
        "colab": {
          "base_uri": "https://localhost:8080/",
          "height": 1000
        },
        "outputId": "57b5c679-8200-481d-f038-3c547e47fa0f"
      },
      "source": [
        "#train the model\n",
        "close_model.fit(close_x_train,close_y_train,batch_size=1,epochs=30)\n",
        "open_model.fit(open_x_train,open_y_train,batch_size=1,epochs=30)\n",
        "high_model.fit(high_x_train,high_y_train,batch_size=1,epochs=30)\n",
        "low_model.fit(low_x_train,low_y_train,batch_size=1,epochs=30)\n"
      ],
      "execution_count": null,
      "outputs": [
        {
          "output_type": "stream",
          "text": [
            "Epoch 1/30\n",
            "1252/1252 [==============================] - 51s 41ms/step - loss: 0.0030\n",
            "Epoch 2/30\n",
            "1252/1252 [==============================] - 49s 39ms/step - loss: 0.0012\n",
            "Epoch 3/30\n",
            "1252/1252 [==============================] - 49s 39ms/step - loss: 0.0013\n",
            "Epoch 4/30\n",
            "1252/1252 [==============================] - 49s 39ms/step - loss: 8.0673e-04\n",
            "Epoch 5/30\n",
            "1252/1252 [==============================] - 49s 39ms/step - loss: 6.5310e-04\n",
            "Epoch 6/30\n",
            "1252/1252 [==============================] - 48s 39ms/step - loss: 5.5508e-04\n",
            "Epoch 7/30\n",
            "1252/1252 [==============================] - 48s 39ms/step - loss: 6.6737e-04\n",
            "Epoch 8/30\n",
            "1252/1252 [==============================] - 49s 39ms/step - loss: 5.1952e-04\n",
            "Epoch 9/30\n",
            "1252/1252 [==============================] - 48s 39ms/step - loss: 5.2507e-04\n",
            "Epoch 10/30\n",
            "1252/1252 [==============================] - 49s 39ms/step - loss: 5.8876e-04\n",
            "Epoch 11/30\n",
            "1252/1252 [==============================] - 48s 38ms/step - loss: 4.6766e-04\n",
            "Epoch 12/30\n",
            "1252/1252 [==============================] - 48s 39ms/step - loss: 5.7152e-04\n",
            "Epoch 13/30\n",
            "1252/1252 [==============================] - 48s 38ms/step - loss: 4.3084e-04\n",
            "Epoch 14/30\n",
            "1252/1252 [==============================] - 48s 38ms/step - loss: 5.0232e-04\n",
            "Epoch 15/30\n",
            "1252/1252 [==============================] - 48s 39ms/step - loss: 4.8946e-04\n",
            "Epoch 16/30\n",
            "1252/1252 [==============================] - 48s 38ms/step - loss: 5.3490e-04\n",
            "Epoch 17/30\n",
            "1252/1252 [==============================] - 48s 38ms/step - loss: 4.7915e-04\n",
            "Epoch 18/30\n",
            "1252/1252 [==============================] - 48s 38ms/step - loss: 4.4400e-04\n",
            "Epoch 19/30\n",
            "1252/1252 [==============================] - 48s 38ms/step - loss: 4.7455e-04\n",
            "Epoch 20/30\n",
            "1252/1252 [==============================] - 48s 38ms/step - loss: 4.6394e-04\n",
            "Epoch 21/30\n",
            "1252/1252 [==============================] - 48s 38ms/step - loss: 4.1639e-04\n",
            "Epoch 22/30\n",
            "1252/1252 [==============================] - 48s 38ms/step - loss: 4.6841e-04\n",
            "Epoch 23/30\n",
            "1252/1252 [==============================] - 48s 39ms/step - loss: 4.7308e-04\n",
            "Epoch 24/30\n",
            "1252/1252 [==============================] - 48s 38ms/step - loss: 4.5787e-04\n",
            "Epoch 25/30\n",
            "1252/1252 [==============================] - 47s 38ms/step - loss: 4.3668e-04\n",
            "Epoch 26/30\n",
            "1252/1252 [==============================] - 48s 38ms/step - loss: 4.5469e-04\n",
            "Epoch 27/30\n",
            "1252/1252 [==============================] - 48s 39ms/step - loss: 4.0074e-04\n",
            "Epoch 28/30\n",
            "1252/1252 [==============================] - 49s 39ms/step - loss: 4.4407e-04\n",
            "Epoch 29/30\n",
            "1252/1252 [==============================] - 48s 39ms/step - loss: 4.4497e-04\n",
            "Epoch 30/30\n",
            "1252/1252 [==============================] - 48s 38ms/step - loss: 4.4174e-04\n",
            "Epoch 1/30\n",
            "1252/1252 [==============================] - 49s 39ms/step - loss: 0.0032\n",
            "Epoch 2/30\n",
            "1252/1252 [==============================] - 48s 38ms/step - loss: 0.0013\n",
            "Epoch 3/30\n",
            "1252/1252 [==============================] - 49s 39ms/step - loss: 0.0011\n",
            "Epoch 4/30\n",
            "1252/1252 [==============================] - 49s 39ms/step - loss: 8.0278e-04\n",
            "Epoch 5/30\n",
            "1252/1252 [==============================] - 50s 40ms/step - loss: 7.2538e-04\n",
            "Epoch 6/30\n",
            "1252/1252 [==============================] - 48s 38ms/step - loss: 7.3220e-04\n",
            "Epoch 7/30\n",
            "1252/1252 [==============================] - 48s 38ms/step - loss: 6.1681e-04\n",
            "Epoch 8/30\n",
            "1252/1252 [==============================] - 48s 39ms/step - loss: 6.2023e-04\n",
            "Epoch 9/30\n",
            "1252/1252 [==============================] - 48s 39ms/step - loss: 5.7364e-04\n",
            "Epoch 10/30\n",
            "1252/1252 [==============================] - 49s 39ms/step - loss: 5.1879e-04\n",
            "Epoch 11/30\n",
            "1252/1252 [==============================] - 50s 40ms/step - loss: 5.7561e-04\n",
            "Epoch 12/30\n",
            "1252/1252 [==============================] - 48s 38ms/step - loss: 5.0143e-04\n",
            "Epoch 13/30\n",
            "1252/1252 [==============================] - 48s 39ms/step - loss: 5.3074e-04\n",
            "Epoch 14/30\n",
            "1252/1252 [==============================] - 48s 38ms/step - loss: 4.9370e-04\n",
            "Epoch 15/30\n",
            "1252/1252 [==============================] - 48s 38ms/step - loss: 5.1913e-04\n",
            "Epoch 16/30\n",
            "1252/1252 [==============================] - 48s 38ms/step - loss: 5.3977e-04\n",
            "Epoch 17/30\n",
            "1252/1252 [==============================] - 48s 38ms/step - loss: 5.1677e-04\n",
            "Epoch 18/30\n",
            "1252/1252 [==============================] - 49s 39ms/step - loss: 4.5420e-04\n",
            "Epoch 19/30\n",
            "1252/1252 [==============================] - 48s 38ms/step - loss: 5.0968e-04\n",
            "Epoch 20/30\n",
            "1252/1252 [==============================] - 48s 38ms/step - loss: 4.6309e-04\n",
            "Epoch 21/30\n",
            "1252/1252 [==============================] - 48s 38ms/step - loss: 4.8304e-04\n",
            "Epoch 22/30\n",
            "1252/1252 [==============================] - 48s 38ms/step - loss: 5.0654e-04\n",
            "Epoch 23/30\n",
            "1252/1252 [==============================] - 48s 38ms/step - loss: 4.3811e-04\n",
            "Epoch 24/30\n",
            "1252/1252 [==============================] - 49s 39ms/step - loss: 4.4908e-04\n",
            "Epoch 25/30\n",
            "1252/1252 [==============================] - 49s 39ms/step - loss: 4.7346e-04\n",
            "Epoch 26/30\n",
            "1252/1252 [==============================] - 48s 38ms/step - loss: 4.9636e-04\n",
            "Epoch 27/30\n",
            "1252/1252 [==============================] - 47s 38ms/step - loss: 4.6526e-04\n",
            "Epoch 28/30\n",
            "1252/1252 [==============================] - 48s 38ms/step - loss: 4.8453e-04\n",
            "Epoch 29/30\n",
            "1252/1252 [==============================] - 48s 38ms/step - loss: 4.5231e-04\n",
            "Epoch 30/30\n",
            "1252/1252 [==============================] - 49s 39ms/step - loss: 4.3824e-04\n",
            "Epoch 1/30\n",
            "1252/1252 [==============================] - 51s 41ms/step - loss: 0.0025\n",
            "Epoch 2/30\n",
            "1252/1252 [==============================] - 49s 39ms/step - loss: 0.0011\n",
            "Epoch 3/30\n",
            "1252/1252 [==============================] - 49s 39ms/step - loss: 7.7941e-04\n",
            "Epoch 4/30\n",
            "1252/1252 [==============================] - 49s 39ms/step - loss: 6.2045e-04\n",
            "Epoch 5/30\n",
            "1252/1252 [==============================] - 49s 39ms/step - loss: 6.0687e-04\n",
            "Epoch 6/30\n",
            "1252/1252 [==============================] - 49s 39ms/step - loss: 5.4633e-04\n",
            "Epoch 7/30\n",
            "1252/1252 [==============================] - 49s 39ms/step - loss: 5.0353e-04\n",
            "Epoch 8/30\n",
            "1252/1252 [==============================] - 50s 40ms/step - loss: 4.4391e-04\n",
            "Epoch 9/30\n",
            "1252/1252 [==============================] - 49s 39ms/step - loss: 3.9734e-04\n",
            "Epoch 10/30\n",
            "1252/1252 [==============================] - 49s 39ms/step - loss: 4.3574e-04\n",
            "Epoch 11/30\n",
            "1252/1252 [==============================] - 49s 39ms/step - loss: 3.8892e-04\n",
            "Epoch 12/30\n",
            "1252/1252 [==============================] - 49s 39ms/step - loss: 4.0069e-04\n",
            "Epoch 13/30\n",
            "1252/1252 [==============================] - 49s 39ms/step - loss: 3.9396e-04\n",
            "Epoch 14/30\n",
            "1252/1252 [==============================] - 49s 40ms/step - loss: 3.9408e-04\n",
            "Epoch 15/30\n",
            "1252/1252 [==============================] - 49s 39ms/step - loss: 3.7540e-04\n",
            "Epoch 16/30\n",
            "1252/1252 [==============================] - 49s 39ms/step - loss: 4.1290e-04\n",
            "Epoch 17/30\n",
            "1252/1252 [==============================] - 49s 39ms/step - loss: 3.4987e-04\n",
            "Epoch 18/30\n",
            "1252/1252 [==============================] - 49s 39ms/step - loss: 3.7172e-04\n",
            "Epoch 19/30\n",
            "1252/1252 [==============================] - 49s 39ms/step - loss: 3.4445e-04\n",
            "Epoch 20/30\n",
            "1252/1252 [==============================] - 49s 40ms/step - loss: 3.6851e-04\n",
            "Epoch 21/30\n",
            "1252/1252 [==============================] - 49s 39ms/step - loss: 3.1086e-04\n",
            "Epoch 22/30\n",
            "1252/1252 [==============================] - 49s 39ms/step - loss: 3.5373e-04\n",
            "Epoch 23/30\n",
            "1252/1252 [==============================] - 49s 39ms/step - loss: 3.3742e-04\n",
            "Epoch 24/30\n",
            "1252/1252 [==============================] - 49s 39ms/step - loss: 3.2506e-04\n",
            "Epoch 25/30\n",
            "1252/1252 [==============================] - 50s 40ms/step - loss: 3.2922e-04\n",
            "Epoch 26/30\n",
            "1252/1252 [==============================] - 49s 39ms/step - loss: 3.6813e-04\n",
            "Epoch 27/30\n",
            "1252/1252 [==============================] - 50s 40ms/step - loss: 3.2559e-04\n",
            "Epoch 28/30\n",
            "1252/1252 [==============================] - 49s 39ms/step - loss: 3.3273e-04\n",
            "Epoch 29/30\n",
            "1252/1252 [==============================] - 50s 40ms/step - loss: 3.2615e-04\n",
            "Epoch 30/30\n",
            "1252/1252 [==============================] - 49s 39ms/step - loss: 3.2962e-04\n",
            "Epoch 1/30\n",
            "1252/1252 [==============================] - 49s 39ms/step - loss: 0.0026\n",
            "Epoch 2/30\n",
            "1252/1252 [==============================] - 49s 39ms/step - loss: 0.0015\n",
            "Epoch 3/30\n",
            "1252/1252 [==============================] - 49s 39ms/step - loss: 0.0012\n",
            "Epoch 4/30\n",
            "1252/1252 [==============================] - 49s 39ms/step - loss: 6.9604e-04\n",
            "Epoch 5/30\n",
            "1252/1252 [==============================] - 49s 39ms/step - loss: 6.8103e-04\n",
            "Epoch 6/30\n",
            "1252/1252 [==============================] - 49s 39ms/step - loss: 6.0733e-04\n",
            "Epoch 7/30\n",
            "1252/1252 [==============================] - 49s 39ms/step - loss: 5.6816e-04\n",
            "Epoch 8/30\n",
            "1252/1252 [==============================] - 49s 39ms/step - loss: 5.0251e-04\n",
            "Epoch 9/30\n",
            "1252/1252 [==============================] - 48s 39ms/step - loss: 5.9295e-04\n",
            "Epoch 10/30\n",
            "1252/1252 [==============================] - 49s 39ms/step - loss: 5.6314e-04\n",
            "Epoch 11/30\n",
            "1252/1252 [==============================] - 48s 38ms/step - loss: 5.0478e-04\n",
            "Epoch 12/30\n",
            "1252/1252 [==============================] - 48s 38ms/step - loss: 4.8278e-04\n",
            "Epoch 13/30\n",
            "1252/1252 [==============================] - 48s 38ms/step - loss: 4.8573e-04\n",
            "Epoch 14/30\n",
            "1252/1252 [==============================] - 48s 39ms/step - loss: 4.9407e-04\n",
            "Epoch 15/30\n",
            "1252/1252 [==============================] - 48s 39ms/step - loss: 4.5362e-04\n",
            "Epoch 16/30\n",
            "1252/1252 [==============================] - 48s 39ms/step - loss: 4.7639e-04\n",
            "Epoch 17/30\n",
            "1252/1252 [==============================] - 48s 38ms/step - loss: 4.1700e-04\n",
            "Epoch 18/30\n",
            "1252/1252 [==============================] - 48s 38ms/step - loss: 4.4368e-04\n",
            "Epoch 19/30\n",
            "1252/1252 [==============================] - 48s 39ms/step - loss: 4.4094e-04\n",
            "Epoch 20/30\n",
            "1252/1252 [==============================] - 49s 39ms/step - loss: 4.8302e-04\n",
            "Epoch 21/30\n",
            "1252/1252 [==============================] - 50s 40ms/step - loss: 4.4101e-04\n",
            "Epoch 22/30\n",
            "1252/1252 [==============================] - 49s 39ms/step - loss: 4.4324e-04\n",
            "Epoch 23/30\n",
            "1252/1252 [==============================] - 50s 40ms/step - loss: 4.5077e-04\n",
            "Epoch 24/30\n",
            "1252/1252 [==============================] - 49s 39ms/step - loss: 4.5319e-04\n",
            "Epoch 25/30\n",
            "1252/1252 [==============================] - 48s 39ms/step - loss: 4.3082e-04\n",
            "Epoch 26/30\n",
            "1252/1252 [==============================] - 49s 39ms/step - loss: 4.0717e-04\n",
            "Epoch 27/30\n",
            "1252/1252 [==============================] - 50s 40ms/step - loss: 3.9700e-04\n",
            "Epoch 28/30\n",
            "1252/1252 [==============================] - 50s 40ms/step - loss: 4.3571e-04\n",
            "Epoch 29/30\n",
            "1252/1252 [==============================] - 50s 40ms/step - loss: 3.9966e-04\n",
            "Epoch 30/30\n",
            "1252/1252 [==============================] - 51s 40ms/step - loss: 3.8923e-04\n"
          ],
          "name": "stdout"
        },
        {
          "output_type": "execute_result",
          "data": {
            "text/plain": [
              "<keras.callbacks.callbacks.History at 0x7fbb083a3dd8>"
            ]
          },
          "metadata": {
            "tags": []
          },
          "execution_count": 17
        }
      ]
    },
    {
      "cell_type": "code",
      "metadata": {
        "id": "mhuf4Oimmr3j",
        "colab_type": "code",
        "colab": {}
      },
      "source": [
        ""
      ],
      "execution_count": null,
      "outputs": []
    },
    {
      "cell_type": "code",
      "metadata": {
        "id": "CO7ebq10Q5mw",
        "colab_type": "code",
        "colab": {}
      },
      "source": [
        "# create the test dataset func\n",
        "def create_test_dataset_func(scaled_data,training_data_len,data):\n",
        "    dataset = data.values\n",
        "    test_data = scaled_data[training_data_len - 60: ,:]\n",
        "    x_test = []\n",
        "    y_test = dataset[training_data_len : , :]\n",
        "    for i in range(60,len(test_data)):\n",
        "        x_test.append(test_data[i-60:i,0])\n",
        "\n",
        "    return x_test\n"
      ],
      "execution_count": null,
      "outputs": []
    },
    {
      "cell_type": "code",
      "metadata": {
        "id": "bT-v3384SxG0",
        "colab_type": "code",
        "colab": {}
      },
      "source": [
        "# get the test data\n",
        "close_x_test = create_test_dataset_func(close_scaled_data,close_training_data_len,my_dataset.filter(['Close']))\n",
        "high_x_test = create_test_dataset_func(high_scaled_data,high_training_data_len,my_dataset.filter(['High']))\n",
        "low_x_test = create_test_dataset_func(low_scaled_data,low_training_data_len,my_dataset.filter(['Low']))\n",
        "open_x_test = create_test_dataset_func(open_scaled_data,open_training_data_len,my_dataset.filter(['Open']))"
      ],
      "execution_count": null,
      "outputs": []
    },
    {
      "cell_type": "code",
      "metadata": {
        "id": "iiZtX8hDS_UG",
        "colab_type": "code",
        "colab": {}
      },
      "source": [
        "\n",
        "#convert the data into numpy arrays\n",
        "close_x_test = np.array(close_x_test)\n",
        "cl = close_x_test\n",
        "open_x_test = np.array(open_x_test)\n",
        "ope = open_x_test\n",
        "high_x_test = np.array(high_x_test)\n",
        "hi = high_x_test\n",
        "low_x_test = np.array(low_x_test)\n",
        "lo = low_x_test"
      ],
      "execution_count": null,
      "outputs": []
    },
    {
      "cell_type": "code",
      "metadata": {
        "id": "B35kCETTVGxN",
        "colab_type": "code",
        "colab": {}
      },
      "source": [
        "#reshape the data\n",
        "close_x_test = np.reshape(close_x_test,(close_x_test.shape[0],close_x_test.shape[1],1))\n",
        "high_x_test = np.reshape(high_x_test,(high_x_test.shape[0],high_x_test.shape[1],1))\n",
        "open_x_test = np.reshape(open_x_test,(open_x_test.shape[0],open_x_test.shape[1],1))\n",
        "low_x_test = np.reshape(low_x_test,(low_x_test.shape[0],low_x_test.shape[1],1))"
      ],
      "execution_count": null,
      "outputs": []
    },
    {
      "cell_type": "code",
      "metadata": {
        "id": "XX6Lll7rVc6H",
        "colab_type": "code",
        "colab": {
          "base_uri": "https://localhost:8080/",
          "height": 1000
        },
        "outputId": "e752e4cd-8432-453d-9a91-4f8257d6bb75"
      },
      "source": [
        "# get the model pridicted values\n",
        "\n",
        "close_predictions = close_model.predict(close_x_test) \n",
        "close_predictions = close_scaler.inverse_transform(close_predictions)\n",
        "\n",
        "high_predictions = high_model.predict(high_x_test) \n",
        "high_predictions = high_scaler.inverse_transform(high_predictions)\n",
        "\n",
        "open_predictions = open_model.predict(open_x_test) \n",
        "open_predictions = open_scaler.inverse_transform(open_predictions)\n",
        "\n",
        "low_predictions = low_model.predict(low_x_test) \n",
        "low_predictions = low_scaler.inverse_transform(low_predictions)\n",
        "low_predictions"
      ],
      "execution_count": null,
      "outputs": [
        {
          "output_type": "execute_result",
          "data": {
            "text/plain": [
              "array([[248.32147],\n",
              "       [247.36314],\n",
              "       [251.4492 ],\n",
              "       [259.1459 ],\n",
              "       [254.15175],\n",
              "       [253.32864],\n",
              "       [253.19952],\n",
              "       [255.35918],\n",
              "       [253.60449],\n",
              "       [253.9619 ],\n",
              "       [243.41953],\n",
              "       [244.00798],\n",
              "       [240.35727],\n",
              "       [235.71373],\n",
              "       [233.9419 ],\n",
              "       [244.3404 ],\n",
              "       [233.23918],\n",
              "       [228.21002],\n",
              "       [219.74976],\n",
              "       [217.90852],\n",
              "       [214.9428 ],\n",
              "       [211.09695],\n",
              "       [216.13336],\n",
              "       [213.48386],\n",
              "       [224.00307],\n",
              "       [224.29967],\n",
              "       [199.9324 ],\n",
              "       [209.23529],\n",
              "       [208.69582],\n",
              "       [208.14375],\n",
              "       [210.33493],\n",
              "       [207.1541 ],\n",
              "       [208.36113],\n",
              "       [210.5726 ],\n",
              "       [203.12215],\n",
              "       [207.56729],\n",
              "       [207.40909],\n",
              "       [227.25061],\n",
              "       [228.2804 ],\n",
              "       [228.74048],\n",
              "       [222.18867],\n",
              "       [214.28949],\n",
              "       [212.69261],\n",
              "       [212.22086],\n",
              "       [206.10553],\n",
              "       [206.06085],\n",
              "       [212.0033 ],\n",
              "       [212.62067],\n",
              "       [221.0998 ],\n",
              "       [212.10619],\n",
              "       [214.60077],\n",
              "       [214.12859],\n",
              "       [220.59474],\n",
              "       [227.0024 ],\n",
              "       [228.36636],\n",
              "       [230.15813],\n",
              "       [229.83388],\n",
              "       [228.60527],\n",
              "       [226.3002 ],\n",
              "       [225.10611],\n",
              "       [223.26413],\n",
              "       [219.87451],\n",
              "       [223.55415],\n",
              "       [215.44408],\n",
              "       [214.75102],\n",
              "       [217.91527],\n",
              "       [220.77196],\n",
              "       [230.46802],\n",
              "       [228.08987],\n",
              "       [230.43716],\n",
              "       [228.00885],\n",
              "       [226.94281],\n",
              "       [227.2659 ],\n",
              "       [224.40787],\n",
              "       [229.34193],\n",
              "       [235.33136],\n",
              "       [237.48424],\n",
              "       [216.13008],\n",
              "       [219.73672],\n",
              "       [214.61649],\n",
              "       [213.79387],\n",
              "       [210.59758],\n",
              "       [202.67383],\n",
              "       [205.83786],\n",
              "       [199.6971 ],\n",
              "       [193.54694],\n",
              "       [197.90546],\n",
              "       [201.385  ],\n",
              "       [190.95229],\n",
              "       [195.74275],\n",
              "       [199.2054 ],\n",
              "       [195.87537],\n",
              "       [188.59013],\n",
              "       [185.63425],\n",
              "       [182.35027],\n",
              "       [189.01161],\n",
              "       [182.75621],\n",
              "       [180.74123],\n",
              "       [169.85602],\n",
              "       [167.30165],\n",
              "       [157.86914],\n",
              "       [146.70705],\n",
              "       [141.76187],\n",
              "       [142.68156],\n",
              "       [148.36302],\n",
              "       [144.59755],\n",
              "       [155.21259],\n",
              "       [156.76538],\n",
              "       [165.44196],\n",
              "       [161.85608],\n",
              "       [170.05081],\n",
              "       [173.22302],\n",
              "       [167.24184],\n",
              "       [175.35869],\n",
              "       [185.30116],\n",
              "       [189.41092],\n",
              "       [181.85735],\n",
              "       [181.00273],\n",
              "       [183.81671],\n",
              "       [198.70384],\n",
              "       [197.03053],\n",
              "       [202.66318],\n",
              "       [201.88918],\n",
              "       [199.95876],\n",
              "       [205.19403],\n",
              "       [210.57584],\n",
              "       [211.10692],\n",
              "       [217.06003],\n",
              "       [219.30347],\n",
              "       [228.07785],\n",
              "       [234.27802],\n",
              "       [230.65584],\n",
              "       [219.77437],\n",
              "       [213.4869 ],\n",
              "       [225.28258],\n",
              "       [224.6473 ],\n",
              "       [226.51956],\n",
              "       [223.98598],\n",
              "       [233.383  ],\n",
              "       [243.36726],\n",
              "       [237.7199 ],\n",
              "       [253.60107],\n",
              "       [251.1689 ],\n",
              "       [245.19522],\n",
              "       [242.81049],\n",
              "       [241.46785],\n",
              "       [246.17859],\n",
              "       [249.68546],\n",
              "       [247.03374],\n",
              "       [250.1521 ],\n",
              "       [238.02174],\n",
              "       [240.45009],\n",
              "       [245.77371],\n",
              "       [244.06813],\n",
              "       [249.96738],\n",
              "       [247.01212],\n",
              "       [247.67831],\n",
              "       [245.1383 ],\n",
              "       [235.28102],\n",
              "       [233.54034],\n",
              "       [230.30101],\n",
              "       [219.08574],\n",
              "       [209.16226],\n",
              "       [208.20789],\n",
              "       [207.17711],\n",
              "       [205.6163 ],\n",
              "       [206.71259],\n",
              "       [203.73224],\n",
              "       [207.24652],\n",
              "       [207.92056],\n",
              "       [203.68883],\n",
              "       [208.03554],\n",
              "       [206.88602],\n",
              "       [217.2462 ],\n",
              "       [215.02873],\n",
              "       [214.81491],\n",
              "       [215.82072],\n",
              "       [218.6019 ],\n",
              "       [220.22935],\n",
              "       [220.89526],\n",
              "       [215.73378],\n",
              "       [216.6431 ],\n",
              "       [217.45895],\n",
              "       [214.85797],\n",
              "       [221.86806],\n",
              "       [233.11118],\n",
              "       [225.22743],\n",
              "       [217.09312],\n",
              "       [216.64851],\n",
              "       [211.46883],\n",
              "       [215.42592],\n",
              "       [213.14662],\n",
              "       [214.72137],\n",
              "       [218.29613],\n",
              "       [218.43857],\n",
              "       [193.90755],\n",
              "       [192.11565],\n",
              "       [189.42111],\n",
              "       [188.7784 ],\n",
              "       [201.42375],\n",
              "       [203.70276],\n",
              "       [209.93604],\n",
              "       [205.03302],\n",
              "       [207.78325],\n",
              "       [208.27193],\n",
              "       [213.00703],\n",
              "       [214.03943],\n",
              "       [219.52681],\n",
              "       [222.67676],\n",
              "       [219.08363],\n",
              "       [220.34741],\n",
              "       [218.52321],\n",
              "       [217.61162],\n",
              "       [224.85268],\n",
              "       [224.16028],\n",
              "       [218.01822],\n",
              "       [218.28784],\n",
              "       [220.90527],\n",
              "       [225.2081 ],\n",
              "       [226.40047],\n",
              "       [225.77939],\n",
              "       [229.68225],\n",
              "       [228.08041],\n",
              "       [219.82806],\n",
              "       [223.86841],\n",
              "       [220.96222],\n",
              "       [227.72183],\n",
              "       [225.05818],\n",
              "       [226.23514],\n",
              "       [223.47539],\n",
              "       [222.65846],\n",
              "       [223.4112 ],\n",
              "       [224.40486],\n",
              "       [222.65657],\n",
              "       [222.20459],\n",
              "       [221.6138 ],\n",
              "       [222.01736],\n",
              "       [222.1377 ],\n",
              "       [222.26852],\n",
              "       [221.58115],\n",
              "       [220.07512],\n",
              "       [218.13606],\n",
              "       [214.25731],\n",
              "       [209.94243],\n",
              "       [208.44083],\n",
              "       [199.96173],\n",
              "       [196.33545],\n",
              "       [199.55516],\n",
              "       [201.32016],\n",
              "       [196.47983],\n",
              "       [193.84021],\n",
              "       [194.21576],\n",
              "       [193.60518],\n",
              "       [195.28346],\n",
              "       [196.67992],\n",
              "       [199.3208 ],\n",
              "       [205.4733 ],\n",
              "       [203.44049],\n",
              "       [201.15111],\n",
              "       [202.69374],\n",
              "       [205.56277],\n",
              "       [206.35474],\n",
              "       [204.2314 ],\n",
              "       [205.08351],\n",
              "       [199.89064],\n",
              "       [199.49849],\n",
              "       [208.97597],\n",
              "       [208.64096],\n",
              "       [208.06642],\n",
              "       [199.15067],\n",
              "       [195.36551],\n",
              "       [199.84973],\n",
              "       [198.36852],\n",
              "       [201.04434],\n",
              "       [196.76822],\n",
              "       [196.41296],\n",
              "       [191.62277],\n",
              "       [193.59486],\n",
              "       [198.58119],\n",
              "       [197.12172],\n",
              "       [197.60376],\n",
              "       [200.30617],\n",
              "       [201.08571],\n",
              "       [199.86337],\n",
              "       [201.60156],\n",
              "       [199.41151],\n",
              "       [195.46425],\n",
              "       [187.60437],\n",
              "       [187.6685 ],\n",
              "       [187.28395],\n",
              "       [186.48645],\n",
              "       [190.85709],\n",
              "       [191.58286],\n",
              "       [183.67781],\n",
              "       [180.37207],\n",
              "       [183.18542],\n",
              "       [178.21254],\n",
              "       [182.89885],\n",
              "       [181.32867],\n",
              "       [182.60915],\n",
              "       [185.30084],\n",
              "       [184.44174],\n",
              "       [183.74986],\n",
              "       [189.3796 ],\n",
              "       [193.92915],\n",
              "       [194.55241],\n",
              "       [188.90343],\n",
              "       [187.15488],\n",
              "       [180.4057 ],\n",
              "       [180.19492],\n",
              "       [182.97429],\n",
              "       [183.19875],\n",
              "       [185.62088],\n",
              "       [190.04382],\n",
              "       [190.89369],\n",
              "       [191.14128],\n",
              "       [192.90852],\n",
              "       [196.83176],\n",
              "       [197.18356],\n",
              "       [197.43256],\n",
              "       [199.72472],\n",
              "       [202.4197 ],\n",
              "       [207.58621],\n",
              "       [205.92328],\n",
              "       [207.48044],\n",
              "       [214.45984],\n",
              "       [216.74507],\n",
              "       [213.2032 ]], dtype=float32)"
            ]
          },
          "metadata": {
            "tags": []
          },
          "execution_count": 49
        }
      ]
    },
    {
      "cell_type": "code",
      "metadata": {
        "id": "zym6uo0OV39a",
        "colab_type": "code",
        "colab": {}
      },
      "source": [
        "close_train = my_dataset.filter(['Close'])[:close_training_data_len] \n",
        "close_valid = my_dataset.filter(['Close'])[close_training_data_len:]\n",
        "close_valid['Predictions'] = close_predictions\n",
        "\n",
        "high_train = my_dataset.filter(['High'])[:high_training_data_len] \n",
        "high_valid = my_dataset.filter(['High'])[high_training_data_len:]\n",
        "high_valid['Predictions'] = high_predictions\n",
        "\n",
        "low_train = my_dataset.filter(['Low'])[:low_training_data_len] \n",
        "low_valid = my_dataset.filter(['Low'])[low_training_data_len:]\n",
        "low_valid['Predictions'] = low_predictions\n",
        "\n",
        "open_train = my_dataset.filter(['Open'])[:open_training_data_len] \n",
        "open_valid = my_dataset.filter(['Open'])[open_training_data_len:]\n",
        "open_valid['Predictions'] = open_predictions"
      ],
      "execution_count": null,
      "outputs": []
    },
    {
      "cell_type": "code",
      "metadata": {
        "id": "SZU5BNRPhG1M",
        "colab_type": "code",
        "colab": {}
      },
      "source": [
        "close_predictions = close_predictions.flatten()"
      ],
      "execution_count": null,
      "outputs": []
    },
    {
      "cell_type": "code",
      "metadata": {
        "id": "r-FLMElAvPCo",
        "colab_type": "code",
        "colab": {}
      },
      "source": [
        "low_predictions = low_predictions.flatten()"
      ],
      "execution_count": null,
      "outputs": []
    },
    {
      "cell_type": "code",
      "metadata": {
        "id": "7b9zLiY2vVG1",
        "colab_type": "code",
        "colab": {}
      },
      "source": [
        "high_predictions = high_predictions.flatten()"
      ],
      "execution_count": null,
      "outputs": []
    },
    {
      "cell_type": "code",
      "metadata": {
        "id": "Jam1Dss6vYhf",
        "colab_type": "code",
        "colab": {}
      },
      "source": [
        "open_predictions = open_predictions.flatten()"
      ],
      "execution_count": null,
      "outputs": []
    },
    {
      "cell_type": "code",
      "metadata": {
        "id": "EYokI9Hqi7Dp",
        "colab_type": "code",
        "colab": {}
      },
      "source": [
        "predicted_df = pd.DataFrame(data = [open_predictions,high_predictions,low_predictions,close_predictions])"
      ],
      "execution_count": null,
      "outputs": []
    },
    {
      "cell_type": "code",
      "metadata": {
        "id": "vB_XmB-hrFZH",
        "colab_type": "code",
        "colab": {}
      },
      "source": [
        "predicted_T = predicted_df.T"
      ],
      "execution_count": null,
      "outputs": []
    },
    {
      "cell_type": "code",
      "metadata": {
        "id": "wtebAcE7rHHL",
        "colab_type": "code",
        "colab": {}
      },
      "source": [
        "predicted_T =predicted_T.rename(columns = {0:'Open',1:'High',2:'Low',3:'Close'})"
      ],
      "execution_count": null,
      "outputs": []
    },
    {
      "cell_type": "code",
      "metadata": {
        "id": "5dlO1Asy-D65",
        "colab_type": "code",
        "colab": {}
      },
      "source": [
        ""
      ],
      "execution_count": null,
      "outputs": []
    },
    {
      "cell_type": "code",
      "metadata": {
        "id": "R-6mkVyHwXwy",
        "colab_type": "code",
        "colab": {
          "base_uri": "https://localhost:8080/",
          "height": 402
        },
        "outputId": "90d25b41-5555-4466-8318-12db2439b8cd"
      },
      "source": [
        "predicted_T"
      ],
      "execution_count": null,
      "outputs": [
        {
          "output_type": "execute_result",
          "data": {
            "text/html": [
              "<div>\n",
              "<style scoped>\n",
              "    .dataframe tbody tr th:only-of-type {\n",
              "        vertical-align: middle;\n",
              "    }\n",
              "\n",
              "    .dataframe tbody tr th {\n",
              "        vertical-align: top;\n",
              "    }\n",
              "\n",
              "    .dataframe thead th {\n",
              "        text-align: right;\n",
              "    }\n",
              "</style>\n",
              "<table border=\"1\" class=\"dataframe\">\n",
              "  <thead>\n",
              "    <tr style=\"text-align: right;\">\n",
              "      <th></th>\n",
              "      <th>Open</th>\n",
              "      <th>High</th>\n",
              "      <th>Low</th>\n",
              "      <th>Close</th>\n",
              "    </tr>\n",
              "  </thead>\n",
              "  <tbody>\n",
              "    <tr>\n",
              "      <th>0</th>\n",
              "      <td>250.791702</td>\n",
              "      <td>259.569794</td>\n",
              "      <td>248.321472</td>\n",
              "      <td>255.927002</td>\n",
              "    </tr>\n",
              "    <tr>\n",
              "      <th>1</th>\n",
              "      <td>252.203430</td>\n",
              "      <td>258.937164</td>\n",
              "      <td>247.363144</td>\n",
              "      <td>256.149902</td>\n",
              "    </tr>\n",
              "    <tr>\n",
              "      <th>2</th>\n",
              "      <td>252.593216</td>\n",
              "      <td>269.213257</td>\n",
              "      <td>251.449203</td>\n",
              "      <td>265.188416</td>\n",
              "    </tr>\n",
              "    <tr>\n",
              "      <th>3</th>\n",
              "      <td>262.825439</td>\n",
              "      <td>269.327271</td>\n",
              "      <td>259.145905</td>\n",
              "      <td>264.498779</td>\n",
              "    </tr>\n",
              "    <tr>\n",
              "      <th>4</th>\n",
              "      <td>256.735535</td>\n",
              "      <td>267.696289</td>\n",
              "      <td>254.151749</td>\n",
              "      <td>262.699310</td>\n",
              "    </tr>\n",
              "    <tr>\n",
              "      <th>...</th>\n",
              "      <td>...</td>\n",
              "      <td>...</td>\n",
              "      <td>...</td>\n",
              "      <td>...</td>\n",
              "    </tr>\n",
              "    <tr>\n",
              "      <th>323</th>\n",
              "      <td>208.943085</td>\n",
              "      <td>213.707199</td>\n",
              "      <td>205.923279</td>\n",
              "      <td>211.382950</td>\n",
              "    </tr>\n",
              "    <tr>\n",
              "      <th>324</th>\n",
              "      <td>208.957520</td>\n",
              "      <td>218.777267</td>\n",
              "      <td>207.480438</td>\n",
              "      <td>216.485321</td>\n",
              "    </tr>\n",
              "    <tr>\n",
              "      <th>325</th>\n",
              "      <td>215.277420</td>\n",
              "      <td>228.033234</td>\n",
              "      <td>214.459839</td>\n",
              "      <td>222.917404</td>\n",
              "    </tr>\n",
              "    <tr>\n",
              "      <th>326</th>\n",
              "      <td>221.627670</td>\n",
              "      <td>227.829819</td>\n",
              "      <td>216.745071</td>\n",
              "      <td>222.862244</td>\n",
              "    </tr>\n",
              "    <tr>\n",
              "      <th>327</th>\n",
              "      <td>219.274963</td>\n",
              "      <td>222.675095</td>\n",
              "      <td>213.203201</td>\n",
              "      <td>217.361984</td>\n",
              "    </tr>\n",
              "  </tbody>\n",
              "</table>\n",
              "<p>328 rows × 4 columns</p>\n",
              "</div>"
            ],
            "text/plain": [
              "           Open        High         Low       Close\n",
              "0    250.791702  259.569794  248.321472  255.927002\n",
              "1    252.203430  258.937164  247.363144  256.149902\n",
              "2    252.593216  269.213257  251.449203  265.188416\n",
              "3    262.825439  269.327271  259.145905  264.498779\n",
              "4    256.735535  267.696289  254.151749  262.699310\n",
              "..          ...         ...         ...         ...\n",
              "323  208.943085  213.707199  205.923279  211.382950\n",
              "324  208.957520  218.777267  207.480438  216.485321\n",
              "325  215.277420  228.033234  214.459839  222.917404\n",
              "326  221.627670  227.829819  216.745071  222.862244\n",
              "327  219.274963  222.675095  213.203201  217.361984\n",
              "\n",
              "[328 rows x 4 columns]"
            ]
          },
          "metadata": {
            "tags": []
          },
          "execution_count": 31
        }
      ]
    },
    {
      "cell_type": "code",
      "metadata": {
        "id": "RPW1-D-1xA12",
        "colab_type": "code",
        "colab": {
          "base_uri": "https://localhost:8080/",
          "height": 402
        },
        "outputId": "3f47a89e-f203-4820-b4c8-7c13afa403c0"
      },
      "source": [
        "my_dataset.tail(328)"
      ],
      "execution_count": null,
      "outputs": [
        {
          "output_type": "execute_result",
          "data": {
            "text/html": [
              "<div>\n",
              "<style scoped>\n",
              "    .dataframe tbody tr th:only-of-type {\n",
              "        vertical-align: middle;\n",
              "    }\n",
              "\n",
              "    .dataframe tbody tr th {\n",
              "        vertical-align: top;\n",
              "    }\n",
              "\n",
              "    .dataframe thead th {\n",
              "        text-align: right;\n",
              "    }\n",
              "</style>\n",
              "<table border=\"1\" class=\"dataframe\">\n",
              "  <thead>\n",
              "    <tr style=\"text-align: right;\">\n",
              "      <th></th>\n",
              "      <th>Open</th>\n",
              "      <th>High</th>\n",
              "      <th>Low</th>\n",
              "      <th>Close</th>\n",
              "    </tr>\n",
              "  </thead>\n",
              "  <tbody>\n",
              "    <tr>\n",
              "      <th>1312</th>\n",
              "      <td>252.750000</td>\n",
              "      <td>254.600006</td>\n",
              "      <td>249.500000</td>\n",
              "      <td>253.570007</td>\n",
              "    </tr>\n",
              "    <tr>\n",
              "      <th>1313</th>\n",
              "      <td>253.039993</td>\n",
              "      <td>262.880005</td>\n",
              "      <td>252.880005</td>\n",
              "      <td>262.250000</td>\n",
              "    </tr>\n",
              "    <tr>\n",
              "      <th>1314</th>\n",
              "      <td>263.959992</td>\n",
              "      <td>265.500000</td>\n",
              "      <td>260.690002</td>\n",
              "      <td>262.070007</td>\n",
              "    </tr>\n",
              "    <tr>\n",
              "      <th>1315</th>\n",
              "      <td>257.959992</td>\n",
              "      <td>263.820007</td>\n",
              "      <td>257.500000</td>\n",
              "      <td>260.619995</td>\n",
              "    </tr>\n",
              "    <tr>\n",
              "      <th>1316</th>\n",
              "      <td>263.980011</td>\n",
              "      <td>271.570007</td>\n",
              "      <td>255.800003</td>\n",
              "      <td>264.200012</td>\n",
              "    </tr>\n",
              "    <tr>\n",
              "      <th>...</th>\n",
              "      <td>...</td>\n",
              "      <td>...</td>\n",
              "      <td>...</td>\n",
              "      <td>...</td>\n",
              "    </tr>\n",
              "    <tr>\n",
              "      <th>1635</th>\n",
              "      <td>208.000000</td>\n",
              "      <td>213.449997</td>\n",
              "      <td>207.710007</td>\n",
              "      <td>213.339996</td>\n",
              "    </tr>\n",
              "    <tr>\n",
              "      <th>1636</th>\n",
              "      <td>214.880005</td>\n",
              "      <td>222.250000</td>\n",
              "      <td>214.419998</td>\n",
              "      <td>219.529999</td>\n",
              "    </tr>\n",
              "    <tr>\n",
              "      <th>1637</th>\n",
              "      <td>221.529999</td>\n",
              "      <td>223.800003</td>\n",
              "      <td>217.199997</td>\n",
              "      <td>219.740006</td>\n",
              "    </tr>\n",
              "    <tr>\n",
              "      <th>1638</th>\n",
              "      <td>218.559998</td>\n",
              "      <td>219.199997</td>\n",
              "      <td>214.119995</td>\n",
              "      <td>214.679993</td>\n",
              "    </tr>\n",
              "    <tr>\n",
              "      <th>1639</th>\n",
              "      <td>216.300003</td>\n",
              "      <td>217.500000</td>\n",
              "      <td>211.679993</td>\n",
              "      <td>213.690002</td>\n",
              "    </tr>\n",
              "  </tbody>\n",
              "</table>\n",
              "<p>328 rows × 4 columns</p>\n",
              "</div>"
            ],
            "text/plain": [
              "            Open        High         Low       Close\n",
              "1312  252.750000  254.600006  249.500000  253.570007\n",
              "1313  253.039993  262.880005  252.880005  262.250000\n",
              "1314  263.959992  265.500000  260.690002  262.070007\n",
              "1315  257.959992  263.820007  257.500000  260.619995\n",
              "1316  263.980011  271.570007  255.800003  264.200012\n",
              "...          ...         ...         ...         ...\n",
              "1635  208.000000  213.449997  207.710007  213.339996\n",
              "1636  214.880005  222.250000  214.419998  219.529999\n",
              "1637  221.529999  223.800003  217.199997  219.740006\n",
              "1638  218.559998  219.199997  214.119995  214.679993\n",
              "1639  216.300003  217.500000  211.679993  213.690002\n",
              "\n",
              "[328 rows x 4 columns]"
            ]
          },
          "metadata": {
            "tags": []
          },
          "execution_count": 32
        }
      ]
    },
    {
      "cell_type": "code",
      "metadata": {
        "id": "nha4ZkoFxikz",
        "colab_type": "code",
        "colab": {
          "base_uri": "https://localhost:8080/",
          "height": 290
        },
        "outputId": "588e4eda-ae2b-41d8-b6bc-8bb0d7e9d493"
      },
      "source": [
        "graph_data_ohlc(predicted_T.tail(300).values)"
      ],
      "execution_count": null,
      "outputs": [
        {
          "output_type": "display_data",
          "data": {
            "image/png": "[encoded data removed]",
            "text/plain": [
              "<Figure size 432x288 with 1 Axes>"
            ]
          },
          "metadata": {
            "tags": [],
            "needs_background": "light"
          }
        }
      ]
    },
    {
      "cell_type": "code",
      "metadata": {
        "id": "EFw6AmKz_sNt",
        "colab_type": "code",
        "colab": {
          "base_uri": "https://localhost:8080/",
          "height": 290
        },
        "outputId": "d23bede6-bce1-4f37-ab28-c80718758402"
      },
      "source": [
        "graph_data_ohlc(my_dataset.tail(300).values)"
      ],
      "execution_count": null,
      "outputs": [
        {
          "output_type": "display_data",
          "data": {
            "image/png": "[encoded data removed]",
            "text/plain": [
              "<Figure size 432x288 with 1 Axes>"
            ]
          },
          "metadata": {
            "tags": [],
            "needs_background": "light"
          }
        }
      ]
    },
    {
      "cell_type": "code",
      "metadata": {
        "id": "_DUdLt-rGc3A",
        "colab_type": "code",
        "colab": {}
      },
      "source": [
        ""
      ],
      "execution_count": null,
      "outputs": []
    }
  ]
}